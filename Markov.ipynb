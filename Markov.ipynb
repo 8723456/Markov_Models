{
  "nbformat": 4,
  "nbformat_minor": 0,
  "metadata": {
    "colab": {
      "name": "Markov.ipynb",
      "provenance": [],
      "collapsed_sections": []
    },
    "kernelspec": {
      "name": "python3",
      "display_name": "Python 3"
    },
    "language_info": {
      "name": "python"
    }
  },
  "cells": [
    {
      "cell_type": "markdown",
      "source": [
        "# Cadenas de Markov"
      ],
      "metadata": {
        "id": "ywKlDypzI7td"
      }
    },
    {
      "cell_type": "markdown",
      "source": [
        "Es un proceso estocástico discreto en el que la probabilidad de que ocurra un evento depende solamente del evento anterior.\n"
      ],
      "metadata": {
        "id": "p4PeY1oyJEPE"
      }
    },
    {
      "cell_type": "markdown",
      "source": [
        "## Importar librerías"
      ],
      "metadata": {
        "id": "yLipclOhJlfg"
      }
    },
    {
      "cell_type": "code",
      "source": [
        "import numpy as np"
      ],
      "metadata": {
        "id": "zd84_pJVJDX6"
      },
      "execution_count": 1,
      "outputs": []
    },
    {
      "cell_type": "markdown",
      "source": [
        "## Funciones"
      ],
      "metadata": {
        "id": "16I_rmXyN6tq"
      }
    },
    {
      "cell_type": "code",
      "source": [
        "#Función para que el usuario introduzca los datos:\n",
        "\n",
        "def usuario():\n",
        "  \n",
        "  print('\\n***Bienvenido***\\n')\n",
        "\n",
        "  alpha = float(input('¿Cuál es la probabilidad de que llueva hoy y también mañana?\\t'))\n",
        "  beta = float(input('\\n¿Cuál es la probabilidad de que si no llueve hoy entonces llueva mañana?\\t'))\n",
        "  n = int(input('\\n¿A cuántos días quiere obtener las probabilidades?\\t'))\n",
        "  \n",
        "  return (alpha,beta,n)\n"
      ],
      "metadata": {
        "id": "Jgz61Cq0O8l1"
      },
      "execution_count": 2,
      "outputs": []
    },
    {
      "cell_type": "code",
      "source": [
        "#Calcular resto de probabilidades y devolver matriz P:\n",
        "def matriz_P(alpha,beta):\n",
        "\n",
        "  p1 = [alpha , 1-alpha]\n",
        "  p2 = [beta , 1-beta]\n",
        "\n",
        "  P = np.array([p1 , p2])\n",
        "  return P"
      ],
      "metadata": {
        "id": "jAmDV3FkQSM6"
      },
      "execution_count": 3,
      "outputs": []
    },
    {
      "cell_type": "code",
      "execution_count": 4,
      "metadata": {
        "id": "leXj7Q8vI6VW"
      },
      "outputs": [],
      "source": [
        "# Función que determina la matriz de transición de n pasos:\n",
        "def matriz_n(P,n):\n",
        "  return np.linalg.matrix_power(P,n)"
      ]
    },
    {
      "cell_type": "code",
      "source": [
        "#Para ejecutar:\n",
        "def ejecucion():\n",
        "  resp=1\n",
        "  while resp==1:\n",
        "    #Introducir datos\n",
        "    U = usuario()\n",
        "    alpha = U[0]\n",
        "    beta = U[1]\n",
        "    n = U[2]\n",
        "\n",
        "    # Crear matriz P:\n",
        "    P = matriz_P(alpha,beta)\n",
        "\n",
        "    # Calcular matriz de transición:\n",
        "    m = matriz_n(P,n)\n",
        "\n",
        "    # Mostrar en pantalla:\n",
        "    display(m)\n",
        "\n",
        "    #Pregunta para iterar:\n",
        "    resp = int(input('''\\n\\n¿Desea calcular otra matriz de transición para algún otro paso? \n",
        "    \\n *1 para sí, otro valor para no*\\n'''))\n",
        "    \n",
        "  print('\\n*** Adios ***')\n"
      ],
      "metadata": {
        "id": "hrisxOgCRwRb"
      },
      "execution_count": 8,
      "outputs": []
    },
    {
      "cell_type": "markdown",
      "source": [
        "## Ejecución"
      ],
      "metadata": {
        "id": "-nIAqgyhOM28"
      }
    },
    {
      "cell_type": "code",
      "source": [
        "ejecucion()"
      ],
      "metadata": {
        "colab": {
          "base_uri": "https://localhost:8080/",
          "height": 329
        },
        "id": "CTCNav-XUKER",
        "outputId": "dffd2467-2ab7-480e-81c8-8adce2c12e0c"
      },
      "execution_count": 9,
      "outputs": [
        {
          "name": "stdout",
          "output_type": "stream",
          "text": [
            "\n",
            "***Bienvenido***\n",
            "\n",
            "¿Cuál es la probabilidad de que llueva hoy y también mañana?\t0.8\n",
            "\n",
            "¿Cuál es la probabilidad de que si no llueve hoy entonces llueva mañana?\t0.6\n",
            "\n",
            "¿A cuántos días quiere obtener las probabilidades?\t2\n"
          ]
        },
        {
          "output_type": "display_data",
          "data": {
            "text/plain": [
              "array([[0.76, 0.24],\n",
              "       [0.72, 0.28]])"
            ]
          },
          "metadata": {}
        },
        {
          "output_type": "stream",
          "name": "stdout",
          "text": [
            "\n",
            "\n",
            "¿Desea calcular otra matriz de transición para algún otro paso? \n",
            "    \n",
            " *1 para sí, otro valor para no*\n",
            "9\n",
            "\n",
            "*** Adios ***\n"
          ]
        }
      ]
    }
  ]
}